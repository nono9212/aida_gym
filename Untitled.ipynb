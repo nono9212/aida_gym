{
 "cells": [
  {
   "cell_type": "code",
   "execution_count": null,
   "metadata": {},
   "outputs": [],
   "source": [
    "import gym\n",
    "import numpy as np\n",
    "\n",
    "from stable_baselines.sac.policies import MlpPolicy as MlpPolicySAC\n",
    "from stable_baselines.common.policies import MlpPolicy ,MlpLstmPolicy\n",
    "from stable_baselines.common.vec_env import DummyVecEnv, SubprocVecEnv, VecNormalize\n",
    "from stable_baselines import PPO2,SAC\n",
    "import aida_env.aida_gym_env as e\n",
    "import pybullet as p\n",
    "import argparse\n",
    "import imageio\n",
    "import time\n",
    "import os\n",
    "import json\n",
    "\n",
    "from stable_baselines.gail import ExpertDataset\n",
    "\n",
    "\n",
    "workDirectory = \".\"\n",
    "\n",
    "dataset = ExpertDataset(expert_path='expertData.npz',\n",
    "                        traj_limitation=-1, batch_size=256)\n",
    "\n",
    "commands = [[-1,0],[-2,0],[-3,-1],[-3.5,-2],[-3.5,-3],[-3.5,-5],[-2,-6],[0,-7],[2,-6]]\n",
    "for i in range(5):\n",
    "    commands += [[commands[-1][0]+np.random.rand(),commands[-1][0]+np.random.rand()]]\n",
    "\n",
    "\n",
    "env = DummyVecEnv([lambda:  e.AidaBulletEnv(commands,\n",
    "                                          render  = True, \n",
    "                                          on_rack = True,\n",
    "                                          default_reward     = 0,\n",
    "                                          height_weight      = 0,\n",
    "                                          orientation_weight = 0,\n",
    "                                          direction_weight   = 0,\n",
    "                                          speed_weight       = 0,\n",
    "                                          mimic_weight = 20\n",
    "                                          )\n",
    "                ])\n",
    "\n",
    "\n",
    "\n",
    "from stable_baselines import TD3\n",
    "from stable_baselines.td3.policies import MlpPolicy as MlpPolicyTD3\n",
    "from stable_baselines.ddpg.noise import NormalActionNoise, OrnsteinUhlenbeckActionNoise\n",
    "\n",
    "model = PPO2(MlpPolicy, \n",
    "             env, \n",
    "             verbose         = 0,\n",
    "             gamma = 0.95,\n",
    "             policy_kwargs   = dict(layers=[400,300]),\n",
    "             cliprange_vf = -1,\n",
    "             n_steps = 2048,\n",
    "           )\n",
    "\"\"\"\n",
    "# The noise objects for TD3\n",
    "n_actions = env.action_space.shape[-1]\n",
    "#action_noise = NormalActionNoise(mean=np.zeros(n_actions), sigma=0.02 * np.ones(n_actions))\n",
    "action_noise = OrnsteinUhlenbeckActionNoise(mean=np.zeros(n_actions), sigma=0.02 * np.ones(n_actions), theta=0.15, dt=0.01, initial_noise=None)\n",
    "model = TD3(MlpPolicyTD3, \n",
    "            env, \n",
    "            action_noise=action_noise,\n",
    "            verbose=1,\n",
    "            policy_kwargs   = dict(layers=[400,300]) )\n",
    "\n",
    "\n",
    "model = SAC(MlpPolicySAC, \n",
    "             \n",
    "             env, \n",
    "             verbose         = 0,\n",
    "             gamma = 0.95,\n",
    "             nminibatches = 1,\n",
    "             policy_kwargs   = dict(layers=[400,300]),\n",
    "           )\n",
    "\n",
    "\"\"\"\n",
    "\n"
   ]
  },
  {
   "cell_type": "code",
   "execution_count": null,
   "metadata": {},
   "outputs": [],
   "source": [
    "model.pretrain(dataset, n_epochs=3000)"
   ]
  },
  {
   "cell_type": "code",
   "execution_count": null,
   "metadata": {},
   "outputs": [],
   "source": [
    "\n",
    "model.learn(total_timesteps=100000)"
   ]
  },
  {
   "cell_type": "code",
   "execution_count": null,
   "metadata": {},
   "outputs": [],
   "source": [
    "obs = env.reset()\n",
    "for i in range(1500):\n",
    "    a,_ = model.predict(obs, deterministic=True)\n",
    "    obs, r, done, _ = env.step(a)"
   ]
  },
  {
   "cell_type": "code",
   "execution_count": null,
   "metadata": {},
   "outputs": [],
   "source": []
  },
  {
   "cell_type": "code",
   "execution_count": null,
   "metadata": {},
   "outputs": [],
   "source": []
  }
 ],
 "metadata": {
  "kernelspec": {
   "display_name": "Python 3",
   "language": "python",
   "name": "python3"
  },
  "language_info": {
   "codemirror_mode": {
    "name": "ipython",
    "version": 3
   },
   "file_extension": ".py",
   "mimetype": "text/x-python",
   "name": "python",
   "nbconvert_exporter": "python",
   "pygments_lexer": "ipython3",
   "version": "3.7.3"
  }
 },
 "nbformat": 4,
 "nbformat_minor": 2
}
